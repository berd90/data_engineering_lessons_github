{
 "cells": [
  {
   "cell_type": "code",
   "execution_count": 6,
   "id": "bf1c64e0",
   "metadata": {},
   "outputs": [],
   "source": [
    "v_value = 'Hello!'"
   ]
  },
  {
   "cell_type": "code",
   "execution_count": 8,
   "id": "435f2469",
   "metadata": {},
   "outputs": [],
   "source": [
    "v_value = 'Second string'"
   ]
  },
  {
   "cell_type": "code",
   "execution_count": 9,
   "id": "fb873ea6",
   "metadata": {},
   "outputs": [
    {
     "name": "stdout",
     "output_type": "stream",
     "text": [
      "Second string\n",
      "ololo\n"
     ]
    }
   ],
   "source": [
    "print(v_value)\n",
    "print('ololo')"
   ]
  },
  {
   "cell_type": "code",
   "execution_count": 11,
   "id": "86c26a4d",
   "metadata": {},
   "outputs": [],
   "source": [
    "import pandas as pd"
   ]
  },
  {
   "cell_type": "code",
   "execution_count": 17,
   "id": "5526d89a",
   "metadata": {},
   "outputs": [],
   "source": [
    "import psycopg2 as pg\n",
    "import pandas.io.sql as psql\n",
    "connection = pg.connect(\"host=194.87.102.3 dbname=test1 user=pandas_user password=qwerty123\")\n",
    "df_humans = psql.read_sql('SELECT * FROM humans', connection)\n",
    "# product_category = psql.read_sql_query('select * from product_category', connection)"
   ]
  },
  {
   "cell_type": "code",
   "execution_count": 18,
   "id": "37ad0654",
   "metadata": {},
   "outputs": [
    {
     "name": "stdout",
     "output_type": "stream",
     "text": [
      "   id full_name  human_type\n",
      "0   1     Vasya           1\n",
      "1   2     Petya           2\n",
      "2   3      Ivan           2\n",
      "3   4     Axmed           4\n"
     ]
    }
   ],
   "source": [
    "print(df_humans)"
   ]
  },
  {
   "cell_type": "code",
   "execution_count": 20,
   "id": "fbc00778",
   "metadata": {},
   "outputs": [
    {
     "name": "stdout",
     "output_type": "stream",
     "text": [
      "   id    type_name\n",
      "0   1     Визажист\n",
      "1   2  Программист\n",
      "2   3     Дизайнер\n"
     ]
    }
   ],
   "source": [
    "df_human_types = pd.read_csv('/tmp/human_types.csv') \n",
    "print(df_human_types)"
   ]
  },
  {
   "cell_type": "code",
   "execution_count": 22,
   "id": "ecd77970",
   "metadata": {},
   "outputs": [
    {
     "name": "stdout",
     "output_type": "stream",
     "text": [
      "   id_x full_name  human_type  id_y    type_name\n",
      "0     1     Vasya           1   1.0     Визажист\n",
      "1     2     Petya           2   2.0  Программист\n",
      "2     3      Ivan           2   2.0  Программист\n",
      "3     4     Axmed           4   NaN          NaN\n"
     ]
    }
   ],
   "source": [
    "df_result = df_humans.merge(df_human_types, left_on='human_type', right_on='id', how='left')\n",
    "print(df_result)"
   ]
  },
  {
   "cell_type": "code",
   "execution_count": 23,
   "id": "b4b547b0",
   "metadata": {},
   "outputs": [],
   "source": [
    "df_result.to_csv('/tmp/out.csv')"
   ]
  },
  {
   "cell_type": "code",
   "execution_count": null,
   "id": "d9c3b171",
   "metadata": {},
   "outputs": [],
   "source": []
  }
 ],
 "metadata": {
  "kernelspec": {
   "display_name": "Python 3",
   "language": "python",
   "name": "python3"
  },
  "language_info": {
   "codemirror_mode": {
    "name": "ipython",
    "version": 3
   },
   "file_extension": ".py",
   "mimetype": "text/x-python",
   "name": "python",
   "nbconvert_exporter": "python",
   "pygments_lexer": "ipython3",
   "version": "3.8.10"
  }
 },
 "nbformat": 4,
 "nbformat_minor": 5
}
